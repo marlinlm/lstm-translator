{
 "cells": [
  {
   "cell_type": "code",
   "execution_count": 1,
   "id": "faf68c3c-6090-4d1f-9f7f-829973429055",
   "metadata": {},
   "outputs": [],
   "source": [
    "from translator import Translator\n",
    "import torch"
   ]
  },
  {
   "cell_type": "code",
   "execution_count": 2,
   "id": "8681fa88-efb4-4b00-ab67-df447c6ee4d0",
   "metadata": {},
   "outputs": [
    {
     "name": "stdout",
     "output_type": "stream",
     "text": [
      "loading embedding\n"
     ]
    },
    {
     "name": "stderr",
     "output_type": "stream",
     "text": [
      "/home/jovyan/workspace/lstm-translator/word2vec.py:44: UserWarning: The given NumPy array is not writeable, and PyTorch does not support non-writeable tensors. This means you can write to the underlying (supposedly non-writeable) NumPy array using the tensor. You may want to copy the array to protect its data or make it writeable before converting it to a tensor. This type of warning will be suppressed for the rest of this program. (Triggered internally at  /pytorch/torch/csrc/utils/tensor_numpy.cpp:143.)\n",
      "  self.zh_vectors.append(torch.from_numpy(self.model.get_vector(k))[:embeddings].unsqueeze(0).to(device))\n"
     ]
    }
   ],
   "source": [
    "import word2vec\n",
    "out_vac_size = 20000\n",
    "device = torch.device('cuda')\n",
    "print(\"loading embedding\")\n",
    "embedding_loader = word2vec.WordEmbeddingLoader(device, \"../embeddings/sgns.merge/sgns.merge.word\", out_vocab_size=out_vac_size)"
   ]
  },
  {
   "cell_type": "code",
   "execution_count": 6,
   "id": "11161416-725c-4751-ab47-455bbb901e59",
   "metadata": {},
   "outputs": [
    {
     "name": "stdout",
     "output_type": "stream",
     "text": [
      "loading model from ./models/seq2seq_1700436811.1431215_1400\n",
      "model loaded\n"
     ]
    }
   ],
   "source": [
    "embeddings = 300\n",
    "hiddens = 600\n",
    "n_layers = 4\n",
    "\n",
    "# print(\"loading embedding\")\n",
    "# embedding_loader = word2vec.WordEmbeddingLoader(device, \"../embeddings/sgns.merge/sgns.merge.word\", out_vocab_size=out_vac_size)\n",
    "# embedding_loader = word2vec.WordEmbeddingLoader(\"../embeddings/parellel_01.v2c\")\n",
    "# print(\"load embedding finished\")\n",
    "\n",
    "model_fname = \"./models/seq2seq_1700436811.1431215_1400\"\n",
    "# model_fname = None\n",
    "model = None\n",
    "if not model_fname is None:\n",
    "    print('loading model from ' + model_fname)\n",
    "    model = torch.load(model_fname, map_location=device)\n",
    "    print('model loaded')\n",
    "else:\n",
    "    model = Seq2Seq(device, embedding_loader, embeddings, hiddens, out_vac_size, n_layers, 0.5, 0.5).to(device)\n"
   ]
  },
  {
   "cell_type": "code",
   "execution_count": 7,
   "id": "c61ed124-7944-482e-a52e-3e11f63011e5",
   "metadata": {
    "tags": []
   },
   "outputs": [
    {
     "name": "stdout",
     "output_type": "stream",
     "text": [
      "[['information', 'sources', 'and', 'exchange', 'on', 'capacity', 'building']]\n",
      "x_idx: tensor([[  1742,   9544,     19,   5523,    128,   5233,   4837, 163762]],\n",
      "       device='cuda:0')\n",
      "x_len: tensor([8], device='cuda:0')\n"
     ]
    },
    {
     "data": {
      "text/plain": [
       "[['<eos>', '<eos>', '<eos>', '<eos>', '<eos>']]"
      ]
     },
     "execution_count": 7,
     "metadata": {},
     "output_type": "execute_result"
    }
   ],
   "source": [
    "import tokenizer as tknzr\n",
    "tokenizer = tknzr.Tokenizer()\n",
    "\n",
    "x = []\n",
    "x.append(tokenizer.tokenize(\"information sources and exchange on capacity building\", lang= 'en'))\n",
    "# x.append(tokenizer.tokenize(\"uk reports good data.\", lang= 'en'))\n",
    "print(x)\n",
    "x_idx, x_len, _ = embedding_loader.scentences_to_indexes(x, lang=\"en\")\n",
    "print(\"x_idx:\", x_idx)\n",
    "print(\"x_len:\", x_len)\n",
    "x_emb = embedding_loader.get_embeddings(x_idx, lang=\"en\")\n",
    "# print(\"x_emb:\", x_emb)\n",
    "y_softmax = model.translate(x_emb, x_len, 5)\n",
    "# print(\"y_softmax:\", y_softmax)\n",
    "y_idx = embedding_loader.softmax_to_indexes(y_softmax, lang=\"zh\")\n",
    "embedding_loader.index_to_scentence(y_idx, lang=\"zh\")"
   ]
  },
  {
   "cell_type": "code",
   "execution_count": null,
   "id": "5030cf5a-d754-47e5-83a7-aa11c64f77a1",
   "metadata": {},
   "outputs": [],
   "source": []
  }
 ],
 "metadata": {
  "kernelspec": {
   "display_name": "Python 3 (ipykernel)",
   "language": "python",
   "name": "python3"
  },
  "language_info": {
   "codemirror_mode": {
    "name": "ipython",
    "version": 3
   },
   "file_extension": ".py",
   "mimetype": "text/x-python",
   "name": "python",
   "nbconvert_exporter": "python",
   "pygments_lexer": "ipython3",
   "version": "3.8.10"
  }
 },
 "nbformat": 4,
 "nbformat_minor": 5
}
