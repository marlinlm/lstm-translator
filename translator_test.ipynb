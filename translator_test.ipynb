{
 "cells": [
  {
   "cell_type": "code",
   "execution_count": 1,
   "id": "faf68c3c-6090-4d1f-9f7f-829973429055",
   "metadata": {},
   "outputs": [],
   "source": [
    "from translator import Translator\n",
    "import torch"
   ]
  },
  {
   "cell_type": "code",
   "execution_count": 2,
   "id": "8681fa88-efb4-4b00-ab67-df447c6ee4d0",
   "metadata": {},
   "outputs": [
    {
     "name": "stderr",
     "output_type": "stream",
     "text": [
      "Building prefix dict from the default dictionary ...\n",
      "Loading model from cache /tmp/jieba.cache\n"
     ]
    },
    {
     "name": "stdout",
     "output_type": "stream",
     "text": [
      "loading embedding\n"
     ]
    },
    {
     "name": "stderr",
     "output_type": "stream",
     "text": [
      "Loading model cost 0.537 seconds.\n",
      "Prefix dict has been built successfully.\n"
     ]
    }
   ],
   "source": [
    "import word2vec\n",
    "print(\"loading embedding\")\n",
    "embedding_loader = word2vec.WordEmbeddingLoader(\"../embeddings/sgns.merge/sgns.merge.word\")"
   ]
  },
  {
   "cell_type": "code",
   "execution_count": 10,
   "id": "11161416-725c-4751-ab47-455bbb901e59",
   "metadata": {},
   "outputs": [
    {
     "name": "stdout",
     "output_type": "stream",
     "text": [
      "['haha~', '(*ฅ́˘ฅ̀*)♡', '(*ฅ́˘ฅ̀*)♡', '(*ฅ́˘ฅ̀*)♡', '(*ฅ́˘ฅ̀*)♡', '(*ฅ́˘ฅ̀*)♡', '(*ฅ́˘ฅ̀*)♡', '(*ฅ́˘ฅ̀*)♡', '(*ฅ́˘ฅ̀*)♡', '(*ฅ́˘ฅ̀*)♡']\n",
      "['haha~', '的', '就', '那你先', '过会儿', '过会儿', '过会儿', '过会儿', '过会儿', '过会儿', '过会儿']\n",
      "['haha~', '的', '(*ฅ́˘ฅ̀*)♡', '(*ฅ́˘ฅ̀*)♡', '(*ฅ́˘ฅ̀*)♡', '(*ฅ́˘ฅ̀*)♡', '(*ฅ́˘ฅ̀*)♡', '(*ฅ́˘ฅ̀*)♡', '(*ฅ́˘ฅ̀*)♡', '(*ฅ́˘ฅ̀*)♡']\n",
      "['haha~', '的', '也', '那你先', '过会儿', '过会儿', '过会儿', '过会儿', '过会儿', '过会儿', '过会儿']\n",
      "['haha~', '的', '，', '(*ฅ́˘ฅ̀*)♡', '(*ฅ́˘ฅ̀*)♡', '(*ฅ́˘ฅ̀*)♡', '(*ฅ́˘ฅ̀*)♡', '(*ฅ́˘ฅ̀*)♡', '(*ฅ́˘ฅ̀*)♡', '(*ฅ́˘ฅ̀*)♡']\n",
      "['haha~', '的', '，', '也', '过会儿', '过会儿', '过会儿', '过会儿', '过会儿', '过会儿', '过会儿']\n",
      "['haha~', '的', '，', '。', '(*ฅ́˘ฅ̀*)♡', '(*ฅ́˘ฅ̀*)♡', '(*ฅ́˘ฅ̀*)♡', '(*ฅ́˘ฅ̀*)♡', '(*ฅ́˘ฅ̀*)♡', '(*ฅ́˘ฅ̀*)♡']\n",
      "['haha~', '的', '，', '。', '也', '过会儿', '过会儿', '过会儿', '过会儿', '过会儿', '过会儿']\n",
      "['haha~', '的', '，', '。', '，', '(*ฅ́˘ฅ̀*)♡', '(*ฅ́˘ฅ̀*)♡', '(*ฅ́˘ฅ̀*)♡', '(*ฅ́˘ฅ̀*)♡', '(*ฅ́˘ฅ̀*)♡']\n",
      "['haha~', '的', '，', '。', '，', '也', '过会儿', '过会儿', '过会儿', '过会儿', '过会儿']\n",
      "['haha~', '的', '，', '。', '，', '，', '(*ฅ́˘ฅ̀*)♡', '(*ฅ́˘ฅ̀*)♡', '(*ฅ́˘ฅ̀*)♡', '(*ฅ́˘ฅ̀*)♡']\n",
      "['haha~', '的', '，', '。', '，', '，', '也', '那你先', '过会儿', '过会儿', '过会儿']\n",
      "['haha~', '的', '，', '。', '，', '，', '，', '(*ฅ́˘ฅ̀*)♡', '(*ฅ́˘ฅ̀*)♡', '(*ฅ́˘ฅ̀*)♡']\n",
      "['haha~', '的', '，', '。', '，', '，', '，', '也', '那你先', '过会儿', '过会儿']\n",
      "['haha~', '的', '，', '。', '，', '，', '，', '，', '(*ฅ́˘ฅ̀*)♡', '(*ฅ́˘ฅ̀*)♡']\n",
      "['haha~', '的', '，', '。', '，', '，', '，', '，', '也', '那你先', '过会儿']\n",
      "['haha~', '的', '，', '。', '，', '，', '，', '，', '，', '(*ฅ́˘ฅ̀*)♡']\n",
      "['haha~', '的', '，', '。', '，', '，', '，', '，', '，', '也', '那你先']\n",
      "['haha~', '的', '，', '。', '，', '，', '，', '，', '，', '，']\n",
      "['haha~', '的', '，', '。', '，', '，', '，', '，', '，', '，', '也']\n",
      "['haha~', '的', '，', '。', '，', '，', '，', '，', '，', '，']\n"
     ]
    }
   ],
   "source": [
    "dev = torch.device('cuda')\n",
    "embeddings = 300\n",
    "hiddens = 1200\n",
    "n_layers = 4\n",
    "model_fname = \"../models/_seq2seq_1699630089.3966775\"\n",
    "model = torch.load(model_fname)\n",
    "model.eval()\n",
    "trn = Translator(dev, embeddings, hiddens, n_layers, model, embedding_loader)\n",
    "print(trn.predict(\"do your homework.\",10))"
   ]
  },
  {
   "cell_type": "code",
   "execution_count": 31,
   "id": "c61ed124-7944-482e-a52e-3e11f63011e5",
   "metadata": {},
   "outputs": [
    {
     "name": "stdout",
     "output_type": "stream",
     "text": [
      "tensor([[[0., 0., 0.],\n",
      "         [0., 0., 0.],\n",
      "         [0., 0., 0.]],\n",
      "\n",
      "        [[0., 0., 0.],\n",
      "         [1., 2., 3.],\n",
      "         [0., 0., 0.]],\n",
      "\n",
      "        [[0., 0., 0.],\n",
      "         [1., 2., 3.],\n",
      "         [4., 5., 6.]]])\n"
     ]
    },
    {
     "data": {
      "text/plain": [
       "tensor([[0., 0., 0.],\n",
       "        [1., 2., 3.],\n",
       "        [4., 5., 6.]])"
      ]
     },
     "execution_count": 31,
     "metadata": {},
     "output_type": "execute_result"
    }
   ],
   "source": [
    "a = torch.Tensor([[1,2,3],[4,5,6],[7,8,9]])\n",
    "embeddings = 3\n",
    "len = a.shape[0]\n",
    "b = torch.zeros(len,len, 3)\n",
    "for i in range(1,len):\n",
    "    b[i, 1:i+1] = a[:i]\n",
    "print(b)\n",
    "c = torch.zeros(len,embeddings)\n",
    "for i in range(len):\n",
    "    c[i] = b[i, i]\n",
    "c    "
   ]
  }
 ],
 "metadata": {
  "kernelspec": {
   "display_name": "Python 3 (ipykernel)",
   "language": "python",
   "name": "python3"
  },
  "language_info": {
   "codemirror_mode": {
    "name": "ipython",
    "version": 3
   },
   "file_extension": ".py",
   "mimetype": "text/x-python",
   "name": "python",
   "nbconvert_exporter": "python",
   "pygments_lexer": "ipython3",
   "version": "3.8.10"
  }
 },
 "nbformat": 4,
 "nbformat_minor": 5
}
