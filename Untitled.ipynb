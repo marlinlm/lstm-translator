{
 "cells": [
  {
   "cell_type": "code",
   "execution_count": 9,
   "id": "3218bb52-f60b-449e-ba6e-75908b0dd3af",
   "metadata": {},
   "outputs": [],
   "source": [
    "import torch\n",
    "import torch.nn as nn\n",
    "import seaborn as sns\n",
    "import numpy as np\n",
    "import pandas as pd\n",
    "import matplotlib.pyplot as plt\n",
    "import xml.sax\n",
    "%matplotlib inline"
   ]
  },
  {
   "cell_type": "code",
   "execution_count": null,
   "id": "bd15bbb0-b4c6-440e-8eab-b5a4536ff16b",
   "metadata": {},
   "outputs": [],
   "source": [
    "a=torch.Tensor([[1,2,3],[4,5,6]])\n",
    "print(a.view(-1,1,2))"
   ]
  },
  {
   "cell_type": "code",
   "execution_count": null,
   "id": "6e98b5ab-9924-42b2-92ff-788c3a4c0b32",
   "metadata": {},
   "outputs": [],
   "source": [
    "def read_file(fpath):\n",
    "    BLOCK_SIZE = 1024\n",
    "    with open(fpath, 'rb') as f:\n",
    "        while True:\n",
    "            block = f.read(BLOCK_SIZE)\n",
    "            if block:\n",
    "                yield block\n",
    "            else:\n",
    "                return\n",
    "a = read_file(\"../News-Commentary_v16.tmx\")\n",
    "print(a)            # generator objec\n",
    "print(next(a))      # bytes类型\n",
    "# print(next(a).decode())   # str"
   ]
  },
  {
   "cell_type": "code",
   "execution_count": null,
   "id": "40b73e41-b8e5-45aa-a937-adbdce5d82b6",
   "metadata": {},
   "outputs": [],
   "source": [
    "import torch.nn.functional as F\n",
    "a=torch.zeros(2,3)\n",
    "a.shape[0]\n",
    "b=torch.Tensor([1,2,3])\n",
    "b = b.repeat(5,2)\n",
    "b\n",
    "c = range(2,4)\n",
    "for i in range(4):\n",
    "    print(i)"
   ]
  },
  {
   "cell_type": "code",
   "execution_count": null,
   "id": "fd2d8c33-67c3-4cd4-9895-262ddb789fb2",
   "metadata": {},
   "outputs": [],
   "source": [
    "y=torch.Tensor([[1,2,3],[4,5,6]])\n",
    "batches=labels.shape[0] + 1\n",
    "embeddings = 3\n",
    "decoder_input=torch.zeros(batches, batches, embeddings)\n",
    "for i in range(batches):\n",
    "    for j in range(1, i + 1):\n",
    "        decoder_input[i, j] = y[j-1]\n",
    "decoder_input[:-1]"
   ]
  },
  {
   "cell_type": "code",
   "execution_count": 32,
   "id": "e97d6f90-1cc6-45bd-a3fa-57999ddcd2c6",
   "metadata": {},
   "outputs": [
    {
     "data": {
      "text/plain": [
       "tensor([[[0., 0., 0.],\n",
       "         [0., 0., 0.],\n",
       "         [0., 0., 0.],\n",
       "         [0., 0., 0.]],\n",
       "\n",
       "        [[0., 0., 0.],\n",
       "         [1., 2., 3.],\n",
       "         [0., 0., 0.],\n",
       "         [0., 0., 0.]],\n",
       "\n",
       "        [[0., 0., 0.],\n",
       "         [1., 2., 3.],\n",
       "         [4., 5., 6.],\n",
       "         [0., 0., 0.]],\n",
       "\n",
       "        [[0., 0., 0.],\n",
       "         [1., 2., 3.],\n",
       "         [4., 5., 6.],\n",
       "         [7., 8., 9.]]])"
      ]
     },
     "execution_count": 32,
     "metadata": {},
     "output_type": "execute_result"
    }
   ],
   "source": [
    "labels = torch.Tensor([[1,2,3],[4,5,6],[7,8,9]])\n",
    "batches = labels.shape[0] + 1\n",
    "embeddings = 3\n",
    "label_input=torch.zeros(batches, batches, embeddings)\n",
    "for i in range(batches):\n",
    "    for j in range(1, i + 1):\n",
    "        label_input[i, j] = labels[j-1]\n",
    "label_input"
   ]
  },
  {
   "cell_type": "code",
   "execution_count": 8,
   "id": "5ff60171-5b07-46b8-9021-a5fee8d60c7a",
   "metadata": {},
   "outputs": [
    {
     "name": "stdout",
     "output_type": "stream",
     "text": [
      "1985\n",
      "年\n",
      "还是\n",
      "2019\n",
      "年\n",
      "？\n"
     ]
    }
   ],
   "source": [
    "import jieba\n",
    "test1 = jieba.cut(\"1985年还是2019年？\", cut_all=True)\n",
    "# print(\"全模式: \" + \" \".join(test1))\n",
    "\n",
    "# test2 = jieba.cut(\"Tom love Lucy's dog!\", cut_all=True)\n",
    "# print(\"全模式: \" + \" \".join(test2))\n",
    "for w in test1:\n",
    "    print(w)"
   ]
  },
  {
   "cell_type": "code",
   "execution_count": 17,
   "id": "ec65b820-47d5-4481-a17e-dafcd6ad1d3f",
   "metadata": {},
   "outputs": [
    {
     "data": {
      "text/plain": [
       "tensor([[[1., 2., 3.],\n",
       "         [1., 2., 3.]]])"
      ]
     },
     "execution_count": 17,
     "metadata": {},
     "output_type": "execute_result"
    }
   ],
   "source": [
    "labels = torch.Tensor([[[1,2,3]]])\n",
    "torch.tile(labels, dims=(1,2,1))"
   ]
  },
  {
   "cell_type": "code",
   "execution_count": 1,
   "id": "c32c9936-1af1-45de-90b4-5ae445957c75",
   "metadata": {},
   "outputs": [
    {
     "name": "stdout",
     "output_type": "stream",
     "text": [
      "loading embeddings\n"
     ]
    },
    {
     "ename": "NameError",
     "evalue": "name 'translator' is not defined",
     "output_type": "error",
     "traceback": [
      "\u001b[0;31m---------------------------------------------------------------------------\u001b[0m",
      "\u001b[0;31mNameError\u001b[0m                                 Traceback (most recent call last)",
      "\u001b[0;32m/tmp/ipykernel_677600/2972287312.py\u001b[0m in \u001b[0;36m<module>\u001b[0;34m\u001b[0m\n\u001b[1;32m      9\u001b[0m \u001b[0mtr\u001b[0m \u001b[0;34m=\u001b[0m \u001b[0mtrn\u001b[0m\u001b[0;34m.\u001b[0m\u001b[0mTranslator\u001b[0m\u001b[0;34m(\u001b[0m\u001b[0mtorch\u001b[0m\u001b[0;34m.\u001b[0m\u001b[0mdevice\u001b[0m\u001b[0;34m(\u001b[0m\u001b[0;34m'cpu'\u001b[0m\u001b[0;34m)\u001b[0m\u001b[0;34m,\u001b[0m \u001b[0membeddings\u001b[0m\u001b[0;34m,\u001b[0m \u001b[0mhiddens\u001b[0m\u001b[0;34m,\u001b[0m \u001b[0mn_layers\u001b[0m\u001b[0;34m,\u001b[0m \u001b[0;34m\"../sgns.merge.word\"\u001b[0m\u001b[0;34m)\u001b[0m\u001b[0;34m\u001b[0m\u001b[0;34m\u001b[0m\u001b[0m\n\u001b[1;32m     10\u001b[0m \u001b[0mprint\u001b[0m\u001b[0;34m(\u001b[0m\u001b[0;34m'loading embeddings'\u001b[0m\u001b[0;34m)\u001b[0m\u001b[0;34m\u001b[0m\u001b[0;34m\u001b[0m\u001b[0m\n\u001b[0;32m---> 11\u001b[0;31m \u001b[0mtranslator\u001b[0m\u001b[0;34m.\u001b[0m\u001b[0mload\u001b[0m\u001b[0;34m(\u001b[0m\u001b[0;34m)\u001b[0m\u001b[0;34m\u001b[0m\u001b[0;34m\u001b[0m\u001b[0m\n\u001b[0m\u001b[1;32m     12\u001b[0m \u001b[0mprint\u001b[0m\u001b[0;34m(\u001b[0m\u001b[0;34m'loaded embeddings'\u001b[0m\u001b[0;34m)\u001b[0m\u001b[0;34m\u001b[0m\u001b[0;34m\u001b[0m\u001b[0m\n",
      "\u001b[0;31mNameError\u001b[0m: name 'translator' is not defined"
     ]
    }
   ],
   "source": [
    "import translator as trn\n",
    "import torch\n",
    "device = torch.device('cpu')\n",
    "embeddings = 300\n",
    "hiddens = 600\n",
    "n_layers = 4\n",
    "\n",
    "\n",
    "tr = trn.Translator(torch.device('cpu'), embeddings, hiddens, n_layers, \"../sgns.merge.word\")\n",
    "print('loading embeddings')\n",
    "translator.load()\n",
    "print('loaded embeddings')"
   ]
  },
  {
   "cell_type": "code",
   "execution_count": 22,
   "id": "d883e239-d5af-4289-8d37-87a42100672c",
   "metadata": {},
   "outputs": [
    {
     "name": "stdout",
     "output_type": "stream",
     "text": [
      "tensor([[ 0.1352,  0.1797,  0.1462,  ...,  0.0239,  0.0258,  0.0751],\n",
      "        [ 0.1385,  0.0496,  0.0609,  ..., -0.1577,  0.0267,  0.1145],\n",
      "        [-0.0074,  0.1078,  0.3244,  ..., -0.1945,  0.2666, -0.1429],\n",
      "        [ 0.0416, -0.0121,  0.1375,  ..., -0.1276,  0.1140,  0.0513]])\n"
     ]
    },
    {
     "data": {
      "text/plain": [
       "('！', 1.0)"
      ]
     },
     "execution_count": 22,
     "metadata": {},
     "output_type": "execute_result"
    }
   ],
   "source": [
    "embedding = translator.embedding_loader.getEmbeddingsForScentence('我爱足球！','zh')\n",
    "print(embedding)\n",
    "# print(translator.embedding_loader.vector_2_scentence(embedding))\n",
    "keyed_vec = translator.embedding_loader.model\n",
    "keyed_vec.similar_by_vector(embedding[3].numpy())[0]"
   ]
  },
  {
   "cell_type": "code",
   "execution_count": 53,
   "id": "7d1e4fa6-4e80-4481-93b4-1e15ff64953a",
   "metadata": {},
   "outputs": [
    {
     "data": {
      "text/plain": [
       "tensor([[0., 0., 0.],\n",
       "        [1., 2., 3.],\n",
       "        [4., 5., 6.]])"
      ]
     },
     "execution_count": 53,
     "metadata": {},
     "output_type": "execute_result"
    }
   ],
   "source": [
    "a = torch.Tensor([[1,2,3],[4,5,6],[7,8,9]])\n",
    "b = torch.zeros(3,3)\n",
    "b[1:] = a [:-1]\n",
    "b"
   ]
  }
 ],
 "metadata": {
  "kernelspec": {
   "display_name": "Python 3 (ipykernel)",
   "language": "python",
   "name": "python3"
  },
  "language_info": {
   "codemirror_mode": {
    "name": "ipython",
    "version": 3
   },
   "file_extension": ".py",
   "mimetype": "text/x-python",
   "name": "python",
   "nbconvert_exporter": "python",
   "pygments_lexer": "ipython3",
   "version": "3.8.10"
  }
 },
 "nbformat": 4,
 "nbformat_minor": 5
}
